{
 "cells": [
  {
   "cell_type": "code",
   "execution_count": 1,
   "metadata": {},
   "outputs": [],
   "source": [
    "import pandas as pd\n",
    "import numpy as np\n",
    "import matplotlib.pyplot as plt"
   ]
  },
  {
   "cell_type": "markdown",
   "metadata": {},
   "source": [
    "<b>1.</b> Даны значения величины заработной платы заемщиков банка (zp) и значения их поведенческого кредитного скоринга (ks): \n",
    "```\n",
    "zp = [35, 45, 190, 200, 40, 70, 54, 150, 120, 110],\n",
    "ks = [401, 574, 874, 919, 459, 739, 653, 902, 746, 832].\n",
    "```\n",
    "Используя математические операции, посчитать коэффициенты линейной регрессии, приняв за X заработную плату (то есть, zp - признак), а за y - значения скорингового балла (то есть, ks - целевая переменная). Произвести расчет как с использованием intercept, так и без."
   ]
  },
  {
   "cell_type": "code",
   "execution_count": 2,
   "metadata": {},
   "outputs": [],
   "source": [
    "zp = np.array([35, 45, 190, 200, 40, 70, 54, 150, 120, 110])\n",
    "ks = np.array([401, 574, 874, 919, 459, 739, 653, 902, 746, 832])"
   ]
  },
  {
   "cell_type": "code",
   "execution_count": 3,
   "metadata": {},
   "outputs": [],
   "source": [
    "X = zp\n",
    "y = ks"
   ]
  },
  {
   "cell_type": "markdown",
   "metadata": {},
   "source": [
    "<b>с интерсептом:</b>"
   ]
  },
  {
   "cell_type": "markdown",
   "metadata": {},
   "source": [
    "Найдем коэффициент b"
   ]
  },
  {
   "cell_type": "code",
   "execution_count": 4,
   "metadata": {},
   "outputs": [
    {
     "data": {
      "text/plain": [
       "2.620538882402765"
      ]
     },
     "execution_count": 4,
     "metadata": {},
     "output_type": "execute_result"
    }
   ],
   "source": [
    "b = (np.mean(X * y) - np.mean(X) * np.mean(y)) / (np.mean(X**2) - np.mean(X)**2)\n",
    "b"
   ]
  },
  {
   "cell_type": "markdown",
   "metadata": {},
   "source": [
    "Найдем коэффициент a"
   ]
  },
  {
   "cell_type": "code",
   "execution_count": 5,
   "metadata": {},
   "outputs": [
    {
     "data": {
      "text/plain": [
       "444.1773573243596"
      ]
     },
     "execution_count": 5,
     "metadata": {},
     "output_type": "execute_result"
    }
   ],
   "source": [
    "a = np.mean(ks)-b*np.mean(zp)\n",
    "a"
   ]
  },
  {
   "cell_type": "markdown",
   "metadata": {},
   "source": [
    "y = 444.18 + 2.62*x"
   ]
  },
  {
   "cell_type": "code",
   "execution_count": 6,
   "metadata": {},
   "outputs": [
    {
     "data": {
      "text/plain": [
       "array([535.89621821, 562.10160703, 942.07974498, 968.2851338 ,\n",
       "       548.99891262, 627.61507909, 585.68645697, 837.25818968,\n",
       "       758.64202321, 732.43663439])"
      ]
     },
     "execution_count": 6,
     "metadata": {},
     "output_type": "execute_result"
    }
   ],
   "source": [
    "y1_hat = a + b * X\n",
    "y1_hat"
   ]
  },
  {
   "cell_type": "markdown",
   "metadata": {},
   "source": [
    "<b>без интерсепта:</b>"
   ]
  },
  {
   "cell_type": "code",
   "execution_count": 7,
   "metadata": {},
   "outputs": [],
   "source": [
    "X2 = X.reshape(10, 1)\n",
    "y2 = y.reshape(10, 1)"
   ]
  },
  {
   "cell_type": "code",
   "execution_count": 8,
   "metadata": {},
   "outputs": [
    {
     "data": {
      "text/plain": [
       "array([[ 35],\n",
       "       [ 45],\n",
       "       [190],\n",
       "       [200],\n",
       "       [ 40],\n",
       "       [ 70],\n",
       "       [ 54],\n",
       "       [150],\n",
       "       [120],\n",
       "       [110]])"
      ]
     },
     "execution_count": 8,
     "metadata": {},
     "output_type": "execute_result"
    }
   ],
   "source": [
    "X2"
   ]
  },
  {
   "cell_type": "code",
   "execution_count": 9,
   "metadata": {},
   "outputs": [
    {
     "data": {
      "text/plain": [
       "array([[401],\n",
       "       [574],\n",
       "       [874],\n",
       "       [919],\n",
       "       [459],\n",
       "       [739],\n",
       "       [653],\n",
       "       [902],\n",
       "       [746],\n",
       "       [832]])"
      ]
     },
     "execution_count": 9,
     "metadata": {},
     "output_type": "execute_result"
    }
   ],
   "source": [
    "y2"
   ]
  },
  {
   "cell_type": "code",
   "execution_count": 10,
   "metadata": {},
   "outputs": [
    {
     "data": {
      "text/plain": [
       "array([5.88982042])"
      ]
     },
     "execution_count": 10,
     "metadata": {},
     "output_type": "execute_result"
    }
   ],
   "source": [
    "B = np.dot(np.linalg.inv(np.dot(X2.T, X2)),X2.T@y)\n",
    "B"
   ]
  },
  {
   "cell_type": "code",
   "execution_count": 11,
   "metadata": {},
   "outputs": [
    {
     "data": {
      "text/plain": [
       "array([ 206.1437147 ,  265.04191891, 1119.06587983, 1177.96408403,\n",
       "        235.59281681,  412.28742941,  318.05030269,  883.47306302,\n",
       "        706.77845042,  647.88024621])"
      ]
     },
     "execution_count": 11,
     "metadata": {},
     "output_type": "execute_result"
    }
   ],
   "source": [
    "y2_hat = B * X\n",
    "y2_hat"
   ]
  },
  {
   "cell_type": "code",
   "execution_count": 12,
   "metadata": {},
   "outputs": [
    {
     "data": {
      "image/png": "[encoded data removed]",
      "text/plain": [
       "<Figure size 432x288 with 1 Axes>"
      ]
     },
     "metadata": {
      "needs_background": "light"
     },
     "output_type": "display_data"
    }
   ],
   "source": [
    "plt.grid()\n",
    "plt.scatter(X, y)\n",
    "plt.plot(X, y1_hat, color='green')\n",
    "plt.plot(X, y2_hat, color='red')\n",
    "plt.xlabel('Заработная плата')\n",
    "plt.ylabel('Скоринговый балл')\n",
    "plt.show()"
   ]
  },
  {
   "cell_type": "markdown",
   "metadata": {},
   "source": [
    "<b>2.</b> Посчитать коэффициент линейной регрессии при заработной плате (zp), используя градиентный спуск (без intercept)."
   ]
  },
  {
   "cell_type": "code",
   "execution_count": 13,
   "metadata": {},
   "outputs": [],
   "source": [
    "X = np.array([35, 45, 190, 200, 40, 70, 54, 150, 120, 110])\n",
    "y = np.array([401, 574, 874, 919, 459, 739, 653, 902, 746, 832])\n",
    "n = len(X)"
   ]
  },
  {
   "cell_type": "code",
   "execution_count": 14,
   "metadata": {},
   "outputs": [],
   "source": [
    "def mse_(B1, y=y, X=X, n=n):\n",
    "    return np.sum((B1*X - y)**2) / n"
   ]
  },
  {
   "cell_type": "code",
   "execution_count": 15,
   "metadata": {},
   "outputs": [
    {
     "name": "stdout",
     "output_type": "stream",
     "text": [
      "iteration: 0, B1 = 0.25952808, mse = 493237.7212546963\n",
      "iteration: 50, B1 = 4.497229618367758, mse = 83233.94472982832\n",
      "iteration: 100, B1 = 5.54537842245223, mse = 58151.31823171113\n",
      "iteration: 150, B1 = 5.804626485478126, mse = 56616.849068093856\n",
      "iteration: 200, B1 = 5.868748638669329, mse = 56522.97550129376\n",
      "iteration: 250, B1 = 5.884608547059329, mse = 56517.232638059555\n",
      "iteration: 300, B1 = 5.888531320728348, mse = 56516.88130936019\n",
      "iteration: 350, B1 = 5.889501575592372, mse = 56516.85981627392\n",
      "iteration: 400, B1 = 5.8897415574471985, mse = 56516.85850140053\n",
      "iteration: 450, B1 = 5.889800914315978, mse = 56516.858420961085\n",
      "iteration: 500, B1 = 5.889815595583751, mse = 56516.858416040064\n",
      "iteration: 550, B1 = 5.889819226833643, mse = 56516.858415739014\n",
      "iteration: 600, B1 = 5.889820124983314, mse = 56516.85841572062\n",
      "iteration: 650, B1 = 5.889820347130743, mse = 56516.858415719485\n",
      "iteration: 700, B1 = 5.889820402076462, mse = 56516.85841571941\n",
      "iteration: 750, B1 = 5.889820415666681, mse = 56516.8584157194\n",
      "iteration: 800, B1 = 5.88982041902807, mse = 56516.8584157194\n",
      "iteration: 850, B1 = 5.889820419859474, mse = 56516.8584157194\n",
      "iteration: 900, B1 = 5.889820420065112, mse = 56516.85841571941\n",
      "iteration: 950, B1 = 5.889820420115975, mse = 56516.8584157194\n",
      "iteration: 1000, B1 = 5.8898204201285544, mse = 56516.85841571941\n"
     ]
    }
   ],
   "source": [
    "alpha = 1e-6\n",
    "B1 = 0.1\n",
    "for i in range(1001):\n",
    "    B1 -= alpha * (2/n) * np.sum((B1*X - y) * X)\n",
    "    if i % 50 == 0:\n",
    "        print(f'iteration: {i}, B1 = {B1}, mse = {mse_(B1)}')"
   ]
  },
  {
   "cell_type": "markdown",
   "metadata": {},
   "source": [
    "<b>3.</b> В каких случаях для вычисления доверительных интервалов и проверки статистических гипотез используется таблица значений функции Лапласа, а в каких - таблица критических точек распределения Стьюдента?"
   ]
  },
  {
   "cell_type": "markdown",
   "metadata": {},
   "source": [
    "Лапласса используем когда данные о дисперсии (или стандартном отклонении) генеральной совокупности,\n",
    "Стьюдента - когда этих данных нет."
   ]
  },
  {
   "cell_type": "markdown",
   "metadata": {},
   "source": [
    "\n",
    "*<b>4.</b> Произвести вычисления как в пункте 2, но с вычислением intercept. Учесть, что изменение коэффициентов должно производиться на каждом шаге одновременно (то есть изменение одного коэффициента не должно влиять на изменение другого во время одной итерации)."
   ]
  },
  {
   "cell_type": "code",
   "execution_count": 16,
   "metadata": {},
   "outputs": [],
   "source": [
    "X = np.array([35, 45, 190, 200, 40, 70, 54, 150, 120, 110])\n",
    "y = np.array([401, 574, 874, 919, 459, 739, 653, 902, 746, 832])\n",
    "n = len(X)"
   ]
  },
  {
   "cell_type": "code",
   "execution_count": 17,
   "metadata": {},
   "outputs": [],
   "source": [
    "def mse2_(B0, B1, y=y, X=X, n=n):\n",
    "    return np.sum((B0 + B1*X - y)**2) / n"
   ]
  },
  {
   "cell_type": "code",
   "execution_count": 18,
   "metadata": {},
   "outputs": [
    {
     "name": "stdout",
     "output_type": "stream",
     "text": [
      "iteration: 0, B0 = 0.169966, B1 = 8.07539, mse = 122360.8044853729\n",
      "iteration: 100000, B0 = 409.03758503899854, B1 = 2.8791831426087984, mse = 6783.640544683958\n",
      "iteration: 200000, B0 = 441.39641524523927, B1 = 2.641007845630212, mse = 6472.375953981324\n",
      "iteration: 300000, B0 = 443.9572751113981, B1 = 2.6221587847940984, mse = 6470.426487736031\n",
      "iteration: 400000, B0 = 444.1599401401525, B1 = 2.6206670805791092, mse = 6470.414278128017\n",
      "iteration: 500000, B0 = 444.1759789380671, B1 = 2.6205490279352976, mse = 6470.414201658608\n",
      "iteration: 600000, B0 = 444.177248239628, B1 = 2.6205396853146192, mse = 6470.414201179677\n",
      "iteration: 700000, B0 = 444.1773486914554, B1 = 2.620538945944757, mse = 6470.414201176677\n",
      "iteration: 800000, B0 = 444.17735664115577, B1 = 2.6205388874314473, mse = 6470.41420117666\n",
      "iteration: 900000, B0 = 444.1773572702843, B1 = 2.620538882800784, mse = 6470.41420117666\n",
      "iteration: 1000000, B0 = 444.17735731999414, B1 = 2.620538882434897, mse = 6470.414201176661\n",
      "iteration: 1100000, B0 = 444.17735732323933, B1 = 2.6205388824110107, mse = 6470.414201176658\n",
      "iteration: 1200000, B0 = 444.17735732323933, B1 = 2.6205388824110107, mse = 6470.414201176658\n",
      "iteration: 1300000, B0 = 444.17735732323933, B1 = 2.6205388824110107, mse = 6470.414201176658\n",
      "iteration: 1400000, B0 = 444.17735732323933, B1 = 2.6205388824110107, mse = 6470.414201176658\n",
      "iteration: 1500000, B0 = 444.17735732323933, B1 = 2.6205388824110107, mse = 6470.414201176658\n"
     ]
    }
   ],
   "source": [
    "alpha = 5e-5\n",
    "B0 = 0.1\n",
    "B1 = 0.1\n",
    "for i in range(1500001):\n",
    "    B0_temp = B0\n",
    "    B0 -= alpha * (2/n) * np.sum((B0_temp + B1*X - y))\n",
    "    B1 -= alpha * (2/n) * np.sum((B0_temp + B1*X - y) * X)\n",
    "    if i % 100000 == 0:\n",
    "        print(f'iteration: {i}, B0 = {B0}, B1 = {B1}, mse = {mse2_(B0, B1)}')"
   ]
  },
  {
   "cell_type": "code",
   "execution_count": null,
   "metadata": {},
   "outputs": [],
   "source": []
  }
 ],
 "metadata": {
  "kernelspec": {
   "display_name": "Python 3",
   "language": "python",
   "name": "python3"
  },
  "language_info": {
   "codemirror_mode": {
    "name": "ipython",
    "version": 3
   },
   "file_extension": ".py",
   "mimetype": "text/x-python",
   "name": "python",
   "nbconvert_exporter": "python",
   "pygments_lexer": "ipython3",
   "version": "3.7.6"
  }
 },
 "nbformat": 4,
 "nbformat_minor": 4
}
