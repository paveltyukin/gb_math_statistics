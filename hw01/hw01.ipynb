{
 "cells": [
  {
   "cell_type": "code",
   "execution_count": 1,
   "metadata": {},
   "outputs": [],
   "source": [
    "from math import factorial as f"
   ]
  },
  {
   "cell_type": "markdown",
   "metadata": {},
   "source": [
    "1. Из колоды в 52 карты извлекаются случайным образом 4 карты. \n",
    " - Найти вероятность того, что все карты – крести."
   ]
  },
  {
   "cell_type": "markdown",
   "metadata": {},
   "source": [
    "$\n",
    "\\frac{C_{13}^{4}}{C_{52}^{4}}=\\frac{\\frac{13!}{4!9!}}{\\frac{52!}{4!\\cdot 48!}}=\\frac{13!\\cdot 4!\\cdot48!}{4! \\cdot 9! \\cdot 52!}=\\frac{11}{5\\cdot17\\cdot13}=2.54\\cdot10^{-12}\n",
    "$"
   ]
  },
  {
   "cell_type": "markdown",
   "metadata": {},
   "source": [
    " - Найти вероятность, что среди 4-х карт окажется ХОТЯ БЫ один туз.\n",
    "\n",
    "$\\frac{C_{4}^{1}\\cdot C_{48}^{3} + C_{4}^{2}\\cdot C_{48}^{2} + C_{4}^{3}\\cdot C_{48}^{1} + C_{4}^{4}\\cdot C_{48}^{0}}{C_{52}^{4}}=\\frac{\\frac{4!\\cdot48!}{1!3!3!45!} + \\frac{4!\\cdot48!}{2!\\cdot2!\\cdot2!46!} + \\frac{4!\\cdot48!}{3!\\cdot1!\\cdot1!\\cdot47!} + 1}{\\frac{52!}{4!\\cdot 48!}}=\\frac{69184 + 6768 + 192}{270725}=0.281$"
   ]
  },
  {
   "cell_type": "markdown",
   "metadata": {},
   "source": [
    "2. На входной двери подъезда установлен кодовый замок, содержащий десять кнопок с цифрами от 0 до 9. Код содержит три цифры, которые нужно нажать одновременно. Какова вероятность того, что человек, не знающий код, откроет дверь с первой попытки?\n",
    "\n",
    "$\\frac{1}{C_{10}^{3}}=120$"
   ]
  },
  {
   "cell_type": "markdown",
   "metadata": {},
   "source": [
    "3. В ящике имеется 15 деталей, из которых 9 окрашены. Рабочий случайным образом извлекает 3 детали. Какова вероятность того, что все извлеченные детали окрашены?\n",
    "\n",
    "$\\frac{C_{9}^{3}}{C_{15}^{3}}=\\frac{9!12!3!}{3!6!15!}=0.184$"
   ]
  },
  {
   "cell_type": "markdown",
   "metadata": {},
   "source": [
    "4. В лотерее 100 билетов. Из них 2 выигрышных. Какова вероятность того, что 2 приобретенных билета окажутся выигрышными?\n",
    "\n",
    "$\\frac{C_{2}^{2} \\cdot C_{98}^{0}}{C_{100}^{2}} = \\frac{1 \\cdot 1}{4950} = 0.00020$"
   ]
  }
 ],
 "metadata": {
  "kernelspec": {
   "display_name": "Python 3",
   "language": "python",
   "name": "python3"
  },
  "language_info": {
   "codemirror_mode": {
    "name": "ipython",
    "version": 3
   },
   "file_extension": ".py",
   "mimetype": "text/x-python",
   "name": "python",
   "nbconvert_exporter": "python",
   "pygments_lexer": "ipython3",
   "version": "3.7.6"
  }
 },
 "nbformat": 4,
 "nbformat_minor": 4
}
